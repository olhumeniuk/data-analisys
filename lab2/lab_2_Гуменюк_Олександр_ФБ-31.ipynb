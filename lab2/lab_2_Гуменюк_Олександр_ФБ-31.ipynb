{
 "cells": [
  {
   "cell_type": "markdown",
   "metadata": {},
   "source": [
    "# Аналіз даних VHI\n",
    "## Лабораторна робота №2"
   ]
  },
  {
   "cell_type": "code",
   "execution_count": 3,
   "metadata": {},
   "outputs": [
    {
     "name": "stdout",
     "output_type": "stream",
     "text": [
      "Середовище готове до роботи.\n"
     ]
    }
   ],
   "source": [
    "import os\n",
    "import datetime\n",
    "import urllib.request\n",
    "import glob\n",
    "import pandas as pd\n",
    "from prettytable import PrettyTable\n",
    "\n",
    "print(\"Середовище готове до роботи.\")"
   ]
  },
  {
   "cell_type": "markdown",
   "metadata": {},
   "source": [
    "### Функція завантаження даних з Інтернету\n",
    "Функція завантажує CSV-файл з даними VHI за заданими параметрами та зберігає його у папці **data**."
   ]
  },
  {
   "cell_type": "code",
   "execution_count": 4,
   "metadata": {},
   "outputs": [],
   "source": [
    "def fetch_vhi_data(region_code, start_year=1981, end_year=2024):\n",
    "    \"\"\"Завантаження даних VHI для заданого коду регіону та збереження у вигляді CSV-файлу.\"\"\"\n",
    "    data_dir = \"data\"\n",
    "    if not os.path.isdir(data_dir):\n",
    "        os.makedirs(data_dir)\n",
    "    else:\n",
    "        # Якщо файл для даного регіону вже існує, завантаження не проводиться\n",
    "        existing_files = [fname for fname in os.listdir(data_dir) if fname.startswith(f\"vhi_id__{region_code}__\")]\n",
    "        if existing_files:\n",
    "            print(f\"Файл '{existing_files[0]}' вже присутній у папці '{data_dir}'. Завантаження пропущено.\")\n",
    "            return\n",
    "\n",
    "    url = (f\"https://www.star.nesdis.noaa.gov/smcd/emb/vci/VH/get_TS_admin.php?country=UKR&provinceID={region_code}\" \n",
    "           f\"&year1={start_year}&year2={end_year}&type=Mean\")\n",
    "    response = urllib.request.urlopen(url)\n",
    "    current_time = datetime.datetime.now().strftime(\"%Y-%m-%d_%H-%M\")\n",
    "    filename = f\"vhi_id__{region_code}__{current_time}.csv\"\n",
    "    filepath = os.path.join(data_dir, filename)\n",
    "    \n",
    "    with open(filepath, 'wb') as f:\n",
    "        f.write(response.read())\n",
    "    \n",
    "    print(f\"Дані VHI збережено у файлі '{filepath}'.\")"
   ]
  },
  {
   "cell_type": "markdown",
   "metadata": {},
   "source": [
    "### Завантаження даних для тестування\n"
   ]
  },
  {
   "cell_type": "code",
   "execution_count": 5,
   "metadata": {},
   "outputs": [
    {
     "name": "stdout",
     "output_type": "stream",
     "text": [
      "Дані VHI збережено у файлі 'data/vhi_id__1__2025-03-10_14-45.csv'.\n",
      "Дані VHI збережено у файлі 'data/vhi_id__2__2025-03-10_14-45.csv'.\n",
      "Дані VHI збережено у файлі 'data/vhi_id__3__2025-03-10_14-45.csv'.\n",
      "Дані VHI збережено у файлі 'data/vhi_id__4__2025-03-10_14-45.csv'.\n",
      "Дані VHI збережено у файлі 'data/vhi_id__5__2025-03-10_14-45.csv'.\n",
      "Дані VHI збережено у файлі 'data/vhi_id__6__2025-03-10_14-45.csv'.\n",
      "Дані VHI збережено у файлі 'data/vhi_id__7__2025-03-10_14-45.csv'.\n",
      "Дані VHI збережено у файлі 'data/vhi_id__8__2025-03-10_14-45.csv'.\n",
      "Дані VHI збережено у файлі 'data/vhi_id__9__2025-03-10_14-45.csv'.\n",
      "Дані VHI збережено у файлі 'data/vhi_id__10__2025-03-10_14-45.csv'.\n",
      "Дані VHI збережено у файлі 'data/vhi_id__11__2025-03-10_14-45.csv'.\n",
      "Дані VHI збережено у файлі 'data/vhi_id__12__2025-03-10_14-45.csv'.\n",
      "Дані VHI збережено у файлі 'data/vhi_id__13__2025-03-10_14-45.csv'.\n",
      "Дані VHI збережено у файлі 'data/vhi_id__14__2025-03-10_14-45.csv'.\n",
      "Дані VHI збережено у файлі 'data/vhi_id__15__2025-03-10_14-45.csv'.\n",
      "Дані VHI збережено у файлі 'data/vhi_id__16__2025-03-10_14-45.csv'.\n",
      "Дані VHI збережено у файлі 'data/vhi_id__17__2025-03-10_14-45.csv'.\n",
      "Дані VHI збережено у файлі 'data/vhi_id__18__2025-03-10_14-45.csv'.\n",
      "Дані VHI збережено у файлі 'data/vhi_id__19__2025-03-10_14-45.csv'.\n",
      "Дані VHI збережено у файлі 'data/vhi_id__20__2025-03-10_14-45.csv'.\n",
      "Дані VHI збережено у файлі 'data/vhi_id__21__2025-03-10_14-45.csv'.\n",
      "Дані VHI збережено у файлі 'data/vhi_id__22__2025-03-10_14-45.csv'.\n",
      "Дані VHI збережено у файлі 'data/vhi_id__23__2025-03-10_14-45.csv'.\n",
      "Дані VHI збережено у файлі 'data/vhi_id__24__2025-03-10_14-45.csv'.\n",
      "Дані VHI збережено у файлі 'data/vhi_id__25__2025-03-10_14-45.csv'.\n",
      "Дані VHI збережено у файлі 'data/vhi_id__26__2025-03-10_14-45.csv'.\n",
      "Дані VHI збережено у файлі 'data/vhi_id__27__2025-03-10_14-45.csv'.\n"
     ]
    }
   ],
   "source": [
    "\n",
    "for reg in range(1, 28):\n",
    "     fetch_vhi_data(reg)"
   ]
  },
  {
   "cell_type": "markdown",
   "metadata": {},
   "source": [
    "### Відповідність регіональних кодів до назв областей\n",
    "Словник для відображення коду регіону на його назву."
   ]
  },
  {
   "cell_type": "code",
   "execution_count": 6,
   "metadata": {},
   "outputs": [],
   "source": [
    "region_names = {\n",
    "    1: 'Вінницька', 2: 'Волинська', 3: 'Дніпропетровська', 4: 'Донецька', 5: 'Житомирська',\n",
    "    6: 'Закарпатська', 7: 'Запорізька', 8: 'Івано-Франківська', 9: 'Київська', 10: 'Кіровоградська',\n",
    "    11: 'Луганська', 12: 'Львівська', 13: 'Миколаївська', 14: 'Одеська', 15: 'Полтавська',\n",
    "    16: 'Рівненська', 17: 'Сумська', 18: 'Тернопільська', 19: 'Харківська', 20: 'Херсонська',\n",
    "    21: 'Хмельницька', 22: 'Черкаська', 23: 'Чернівецька', 24: 'Чернігівська', 25: 'Республіка Крим'\n",
    "}"
   ]
  },
  {
   "cell_type": "markdown",
   "metadata": {},
   "source": [
    "### Формування єдиного DataFrame з даних\n",
    "Функція зчитує всі CSV-файли з папки **data**, проводить попередню обробку даних та об'єднує їх у один DataFrame."
   ]
  },
  {
   "cell_type": "code",
   "execution_count": 7,
   "metadata": {},
   "outputs": [
    {
     "name": "stdout",
     "output_type": "stream",
     "text": [
      "      region_code  Year  Week    SMN     SMT    VCI    TCI    VHI\n",
      "2186           19  1982     1  0.038  252.22  47.05  69.15  58.10\n",
      "2187           19  1982     2  0.036  253.39  45.39  63.52  54.45\n",
      "2188           19  1982     3  0.033  254.22  41.22  60.22  50.72\n",
      "2189           19  1982     4  0.031  255.60  37.35  58.01  47.68\n",
      "2190           19  1982     5  0.030  257.16  32.54  56.92  44.73\n"
     ]
    }
   ],
   "source": [
    "def build_dataframe(folder):\n",
    "    \"\"\"Зчитування та обробка CSV-файлів з папки, повертає об'єднаний DataFrame.\"\"\"\n",
    "    files = glob.glob(os.path.join(folder, \"*.csv\"))\n",
    "    \n",
    "    columns = ['Year', 'Week', 'SMN', 'SMT', 'VCI', 'TCI', 'VHI', 'unused']\n",
    "    dataframes = []\n",
    "    \n",
    "    for file in files:\n",
    "        try:\n",
    "            # Отримання коду регіону з імені файлу\n",
    "            reg_code = int(file.split('__')[1])\n",
    "        except Exception as e:\n",
    "            continue\n",
    "        \n",
    "        df = pd.read_csv(file, header=1, names=columns)\n",
    "        df.at[0, 'Year'] = df.at[0, 'Year'][9:]\n",
    "        \n",
    "        df = df.drop(df.index[-1])\n",
    "        df = df[df['VHI'] != -1]\n",
    "        \n",
    "        df = df.drop(columns=['unused'])\n",
    "        \n",
    "        df.insert(0, 'region_code', reg_code)\n",
    "        df['Week'] = df['Week'].astype(int)\n",
    "        \n",
    "        dataframes.append(df)\n",
    "    \n",
    "    # Об'єднання всіх даних\n",
    "    full_df = pd.concat(dataframes).drop_duplicates().reset_index(drop=True)\n",
    "    \n",
    "    full_df = full_df[(full_df['region_code'] != 12) & (full_df['region_code'] != 20)]\n",
    "    \n",
    "    remap = {\n",
    "        1:22, 2:24, 3:23, 4:25, 5:3, 6:4, 7:8, 8:19, 9:20, 10:21,\n",
    "        11:9, 13:10, 14:11, 15:12, 16:13, 17:14, 18:15, 19:16, 21:17,\n",
    "        22:18, 23:6, 24:1, 25:2, 26:6, 27:5\n",
    "    }\n",
    "    full_df = full_df.replace({'region_code': remap})\n",
    "    \n",
    "    return full_df\n",
    "\n",
    "df_main = build_dataframe('data')\n",
    "print(df_main.head())"
   ]
  },
  {
   "cell_type": "markdown",
   "metadata": {},
   "source": [
    "### Аналіз показників VHI за регіонами\n",
    "Функція визначає мінімальне та максимальне значення VHI для заданого регіону у вказаному діапазоні років."
   ]
  },
  {
   "cell_type": "code",
   "execution_count": 8,
   "metadata": {},
   "outputs": [],
   "source": [
    "def analyze_region_year(region_code, years=(\"1982\", \"2024\")):\n",
    "    \"\"\"Аналіз VHI для конкретного регіону у заданому діапазоні років.\"\"\"\n",
    "    subset = df_main[(df_main[\"Year\"].between(years[0], years[1])) & (df_main[\"region_code\"] == region_code)]\n",
    "    region_label = region_names.get(region_code, f\"Регіон {region_code}\")\n",
    "    vhi_min = subset[\"VHI\"].min()\n",
    "    vhi_max = subset[\"VHI\"].max()\n",
    "    print(f\"[+] {region_label}: min VHI = {vhi_min}, max VHI = {vhi_max}\")"
   ]
  },
  {
   "cell_type": "code",
   "execution_count": 9,
   "metadata": {},
   "outputs": [
    {
     "name": "stdout",
     "output_type": "stream",
     "text": [
      "[+] Вінницька: min VHI = 11.25, max VHI = 82.64\n",
      "[+] Волинська: min VHI = 11.91, max VHI = 78.32\n",
      "[+] Дніпропетровська: min VHI = 17.58, max VHI = 93.17\n",
      "[+] Донецька: min VHI = 6.26, max VHI = 96.18\n",
      "[+] Житомирська: min VHI = 19.48, max VHI = 77.57\n",
      "[+] Закарпатська: min VHI = 10.88, max VHI = 96.69\n",
      "[+] Запорізька: min VHI = nan, max VHI = nan\n",
      "[+] Івано-Франківська: min VHI = 18.98, max VHI = 73.35\n",
      "[+] Київська: min VHI = 10.6, max VHI = 80.88\n",
      "[+] Кіровоградська: min VHI = 16.36, max VHI = 84.52\n",
      "[+] Луганська: min VHI = 12.45, max VHI = 90.32\n",
      "[+] Львівська: min VHI = 18.31, max VHI = 69.96\n",
      "[+] Миколаївська: min VHI = 5.94, max VHI = 92.31\n",
      "[+] Одеська: min VHI = 5.52, max VHI = 89.14\n",
      "[+] Полтавська: min VHI = 15.68, max VHI = 85.14\n",
      "[+] Рівненська: min VHI = 20.7, max VHI = 77.45\n",
      "[+] Сумська: min VHI = 12.64, max VHI = 81.96\n",
      "[+] Тернопільська: min VHI = 19.45, max VHI = 77.71\n",
      "[+] Харківська: min VHI = 9.36, max VHI = 91.42\n",
      "[+] Херсонська: min VHI = 12.23, max VHI = 90.61\n",
      "[+] Хмельницька: min VHI = 18.41, max VHI = 79.4\n",
      "[+] Черкаська: min VHI = 10.68, max VHI = 83.7\n",
      "[+] Чернівецька: min VHI = 15.16, max VHI = 74.92\n",
      "[+] Чернігівська: min VHI = 15.17, max VHI = 80.65\n",
      "[+] Республіка Крим: min VHI = 13.28, max VHI = 90.96\n"
     ]
    }
   ],
   "source": [
    "# Аналіз для всіх регіонів з 1 до 25\n",
    "for code in range(1, 26):\n",
    "    analyze_region_year(code)"
   ]
  },
  {
   "cell_type": "code",
   "execution_count": 10,
   "metadata": {},
   "outputs": [
    {
     "name": "stdout",
     "output_type": "stream",
     "text": [
      "[19 10 17 24 21  3  1 25 23 11 13  2  6  8  5 15 18  9 16 22  4 20 14 12]\n"
     ]
    }
   ],
   "source": [
    "print(df_main['region_code'].unique())\n"
   ]
  },
  {
   "cell_type": "markdown",
   "metadata": {},
   "source": [
    "### Визначення років з посухою\n",
    "Функція обчислює роки, в яких спостерігалася посуха (екстремальна або помірна) на основі заданого порогового значення."
   ]
  },
  {
   "cell_type": "code",
   "execution_count": 11,
   "metadata": {},
   "outputs": [],
   "source": [
    "def identify_drought_years(data, perc_threshold, drought_category, start_year=None, end_year=None):\n",
    "    \"\"\"Визначення років з посухою за заданим порогом у відсотках.\n",
    "    drought_category: 'extreme' для VHI < 15, 'moderate' для VHI від 15 до 35.\n",
    "    \"\"\"\n",
    "    if start_year is not None:\n",
    "        data = data[data[\"Year\"] >= start_year]\n",
    "    if end_year is not None:\n",
    "        data = data[data[\"Year\"] <= end_year]\n",
    "    \n",
    "    summary = {}\n",
    "    for yr, group in data.groupby(\"Year\"):\n",
    "        total = group[\"region_code\"].nunique()\n",
    "        if drought_category == \"extreme\":\n",
    "            affected = group[group[\"VHI\"] < 15][\"region_code\"].nunique()\n",
    "        elif drought_category == \"moderate\":\n",
    "            affected = group[(group[\"VHI\"] > 15) & (group[\"VHI\"] < 35)][\"region_code\"].nunique()\n",
    "        else:\n",
    "            continue\n",
    "        \n",
    "        if (affected / total) > (perc_threshold / 100):\n",
    "            summary[yr] = (affected, round((affected / total) * 100, 2))\n",
    "    \n",
    "    table = PrettyTable()\n",
    "    if drought_category == \"extreme\":\n",
    "        table.title = f\"Роки з екстремальною посухою (більше {perc_threshold}% регіонів мають VHI < 15)\"\n",
    "    elif drought_category == \"moderate\":\n",
    "        table.title = f\"Роки з помірною посухою (більше {perc_threshold}% регіонів мають VHI від 15 до 35)\"\n",
    "    table.field_names = [\"Year\", \"К-сть регіонів\", \"Відсоток\"]\n",
    "    for yr, (cnt, pct) in summary.items():\n",
    "        table.add_row([yr, cnt, f\"{pct}%\"])\n",
    "    \n",
    "    return table"
   ]
  },
  {
   "cell_type": "code",
   "execution_count": 12,
   "metadata": {},
   "outputs": [
    {
     "name": "stdout",
     "output_type": "stream",
     "text": [
      "+-------------------------------------------------------------------+\n",
      "| Роки з екстремальною посухою (більше 10% регіонів мають VHI < 15) |\n",
      "+-----------+---------------------------------+---------------------+\n",
      "|    Year   |          К-сть регіонів         |       Відсоток      |\n",
      "+-----------+---------------------------------+---------------------+\n",
      "|    2000   |                4                |        16.67%       |\n",
      "|    2007   |                5                |        20.83%       |\n",
      "+-----------+---------------------------------+---------------------+\n",
      "+----------------------------------------------------------------------+\n",
      "| Роки з помірною посухою (більше 10% регіонів мають VHI від 15 до 35) |\n",
      "+-----------+-----------------------------------+----------------------+\n",
      "|    Year   |           К-сть регіонів          |       Відсоток       |\n",
      "+-----------+-----------------------------------+----------------------+\n",
      "|    2000   |                 24                |        100.0%        |\n",
      "|    2001   |                 9                 |        37.5%         |\n",
      "|    2002   |                 12                |        50.0%         |\n",
      "|    2003   |                 13                |        54.17%        |\n",
      "|    2004   |                 3                 |        12.5%         |\n",
      "|    2005   |                 7                 |        29.17%        |\n",
      "|    2006   |                 12                |        50.0%         |\n",
      "|    2007   |                 15                |        62.5%         |\n",
      "|    2008   |                 15                |        62.5%         |\n",
      "|    2009   |                 14                |        58.33%        |\n",
      "|    2010   |                 13                |        54.17%        |\n",
      "|    2011   |                 16                |        66.67%        |\n",
      "|    2012   |                 12                |        50.0%         |\n",
      "|    2013   |                 15                |        62.5%         |\n",
      "|    2014   |                 10                |        41.67%        |\n",
      "|    2015   |                 23                |        95.83%        |\n",
      "|    2016   |                 15                |        62.5%         |\n",
      "|    2017   |                 11                |        45.83%        |\n",
      "|    2018   |                 14                |        58.33%        |\n",
      "|    2019   |                 23                |        95.83%        |\n",
      "|    2020   |                 16                |        66.67%        |\n",
      "|    2021   |                 10                |        41.67%        |\n",
      "|    2022   |                 6                 |        25.0%         |\n",
      "|    2023   |                 19                |        79.17%        |\n",
      "|    2024   |                 16                |        66.67%        |\n",
      "+-----------+-----------------------------------+----------------------+\n"
     ]
    }
   ],
   "source": [
    "# Отримання таблиць для екстремальних та помірних умов посухи\n",
    "extreme_drought = identify_drought_years(df_main, 10, \"extreme\", start_year=\"2000\", end_year=\"2024\")\n",
    "print(extreme_drought)\n",
    "\n",
    "moderate_drought = identify_drought_years(df_main, 10, \"moderate\", start_year=\"2000\", end_year=\"2024\")\n",
    "print(moderate_drought)"
   ]
  }
 ],
 "metadata": {
  "kernelspec": {
   "display_name": ".venv",
   "language": "python",
   "name": "python3"
  },
  "language_info": {
   "codemirror_mode": {
    "name": "ipython",
    "version": 3
   },
   "file_extension": ".py",
   "mimetype": "text/x-python",
   "name": "python",
   "nbconvert_exporter": "python",
   "pygments_lexer": "ipython3",
   "version": "3.12.3"
  }
 },
 "nbformat": 4,
 "nbformat_minor": 2
}
